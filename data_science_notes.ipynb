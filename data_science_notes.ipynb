{
 "cells": [
  {
   "cell_type": "code",
   "execution_count": 15,
   "id": "9464b55c",
   "metadata": {},
   "outputs": [
    {
     "name": "stdout",
     "output_type": "stream",
     "text": [
      "Day 1 - May 13th - just learned how to git push and commit although i am not sure how to do it again haha\n",
      "2542\n"
     ]
    }
   ],
   "source": [
    "msg = \"Day 1 - May 13th - just learned how to git push and commit although i am not sure how to do it again haha\"\n",
    "print(msg)\n",
    "weight = 62\n",
    "height = 41\n",
    "print (height * weight)"
   ]
  }
 ],
 "metadata": {
  "kernelspec": {
   "display_name": "Python 3",
   "language": "python",
   "name": "python3"
  },
  "language_info": {
   "codemirror_mode": {
    "name": "ipython",
    "version": 3
   },
   "file_extension": ".py",
   "mimetype": "text/x-python",
   "name": "python",
   "nbconvert_exporter": "python",
   "pygments_lexer": "ipython3",
   "version": "3.13.2"
  }
 },
 "nbformat": 4,
 "nbformat_minor": 5
}
