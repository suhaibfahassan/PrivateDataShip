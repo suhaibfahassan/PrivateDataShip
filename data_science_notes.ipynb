{
 "cells": [
  {
   "cell_type": "markdown",
   "id": "43489879",
   "metadata": {},
   "source": [
    "# Suhaib's SQL Tips, Tricks, Mistakes and Learning Curves\n",
    "```DataShip Private Repo Notes```\n",
    "\n",
    "### May 20th, 2025: DataCamp's SQL assessement (First Try) ###\n",
    "- 61% score (low intermediate)\n",
    "- Forgot alot of stuff about SQL\n",
    "- It was mainly a refresher course\n",
    "\n",
    "### June 21st, 2025: DataCamp's SQL assessement (Second Try) ###\n",
    "- 78% score (high intermediate)\n",
    "- Took much less time than my first attempt\n",
    "- Remembered how to do basic joins, filters, group by non-aggreggated columns, CASE operator, REPLACE, \n",
    "- Struggled in selecting the 2nd value in a column with an array data type\n",
    "    - ```SELECT genre[2] AS second_genre```\n",
    "- Forgot how to use ANY operator\n",
    "- I didn't know how to do multiple SELECT statements with brackets\n",
    "- Forgot how to extract column that starts with a vowel\n",
    "    - ```WHERE LEFT(name, 1) IN ('A', 'E', 'I', 'O', 'U')```\n",
    "- Remember to use HAVING and not WHERE if you are filtering after a GROUP BY\n",
    "\n",
    "### June 22nd, 2025: DataCamp's SQL assessement (Third Try) ###\n",
    "- 77% score (high intermediate)\n",
    "- Learned how to extract a month from a timestamp\n",
    "    - ```SELECT EXTRACT(month FROM timestamp '2020-11-30 09:30:30') AS month;```\n",
    "- Still need to learn how to do multiple SELECT statements with brackets\n",
    "    - ```SELECT style, price FROM wine_region WHERE id IN (SELECT wine_id FROM pairing) ORDER BY price, style LIMIT 5;```\n",
    "- ANY operator ---> WHERE 'Reggaeton' = ANY(genre)\n",
    "- Learned INITCAP operator, capitalizes the first letter of each word in a string and convers all other letters to lowercase\n",
    "\n",
    "### June 23rd, 2025: Resume + LinkedIn Revamp ###"
   ]
  },
  {
   "cell_type": "markdown",
   "id": "f81bda18",
   "metadata": {},
   "source": []
  }
 ],
 "metadata": {
  "kernelspec": {
   "display_name": "Python 3",
   "language": "python",
   "name": "python3"
  },
  "language_info": {
   "codemirror_mode": {
    "name": "ipython",
    "version": 3
   },
   "file_extension": ".py",
   "mimetype": "text/x-python",
   "name": "python",
   "nbconvert_exporter": "python",
   "pygments_lexer": "ipython3",
   "version": "3.13.2"
  }
 },
 "nbformat": 4,
 "nbformat_minor": 5
}
